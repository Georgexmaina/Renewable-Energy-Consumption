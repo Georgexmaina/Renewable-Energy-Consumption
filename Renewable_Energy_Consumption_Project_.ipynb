{
  "nbformat": 4,
  "nbformat_minor": 0,
  "metadata": {
    "colab": {
      "private_outputs": true,
      "provenance": []
    },
    "kernelspec": {
      "name": "python3",
      "display_name": "Python 3"
    },
    "language_info": {
      "name": "python"
    }
  },
  "cells": [
    {
      "cell_type": "code",
      "execution_count": null,
      "metadata": {
        "id": "Wl5CWgf2LdfE"
      },
      "outputs": [],
      "source": [
        "#import necessary libraries\n",
        "import pandas as pd\n",
        "import numpy as np\n",
        "import matplotlib.pyplot as plt\n",
        "import seaborn as sns\n"
      ]
    },
    {
      "cell_type": "code",
      "source": [
        "#colab library to import dataset\n",
        "from google.colab import drive\n",
        "drive.mount('/content/drive')"
      ],
      "metadata": {
        "id": "H36feyNeMKlK"
      },
      "execution_count": null,
      "outputs": []
    },
    {
      "cell_type": "code",
      "source": [
        "#mount dataset to notebook\n",
        "ren_energy = pd.read_csv('/content/drive/MyDrive/WorldBank Renewable Energy Consumption_WorldBank Renewable Energy Consumption.csv')"
      ],
      "metadata": {
        "id": "4t-OMbQaMiVM"
      },
      "execution_count": null,
      "outputs": []
    },
    {
      "cell_type": "markdown",
      "source": [
        "**DATA EXPLORATION**"
      ],
      "metadata": {
        "id": "_x_TNavDbGVk"
      }
    },
    {
      "cell_type": "code",
      "source": [
        "#View table\n",
        "ren_energy.head(5)"
      ],
      "metadata": {
        "id": "fK3RwhJ0OAsl"
      },
      "execution_count": null,
      "outputs": []
    },
    {
      "cell_type": "code",
      "source": [
        "#maximum number of countries in the data\n",
        "ren_energy['Country Name'].max()"
      ],
      "metadata": {
        "id": "bz2CKu7EbWe8"
      },
      "execution_count": null,
      "outputs": []
    },
    {
      "cell_type": "code",
      "source": [
        "#Number of regions in the data\n",
        "ren_energy['Region'].max()"
      ],
      "metadata": {
        "id": "ICUez_h0exHW"
      },
      "execution_count": null,
      "outputs": []
    },
    {
      "cell_type": "code",
      "source": [
        "#elements in year column\n",
        "ren_energy['Year'].unique()"
      ],
      "metadata": {
        "id": "HwhIzgTzd3wp"
      },
      "execution_count": null,
      "outputs": []
    },
    {
      "cell_type": "code",
      "source": [
        "#Elements in income group\n",
        "ren_energy['Income Group'].unique()"
      ],
      "metadata": {
        "id": "ZFuX1PinfPJf"
      },
      "execution_count": null,
      "outputs": []
    },
    {
      "cell_type": "code",
      "source": [
        "#View datatypes\n",
        "ren_energy.dtypes"
      ],
      "metadata": {
        "id": "kmXXoEY2hbyF"
      },
      "execution_count": null,
      "outputs": []
    },
    {
      "cell_type": "code",
      "source": [
        "#View shape of data\n",
        "ren_energy.shape"
      ],
      "metadata": {
        "id": "lnyKC2cfhjJq"
      },
      "execution_count": null,
      "outputs": []
    },
    {
      "cell_type": "code",
      "source": [
        "#Check for duplicates\n",
        "ren_energy.duplicated().sum()"
      ],
      "metadata": {
        "id": "uX4z-wsuOPZr"
      },
      "execution_count": null,
      "outputs": []
    },
    {
      "cell_type": "code",
      "source": [
        "#Check for nulls\n",
        "ren_energy.isnull().sum()"
      ],
      "metadata": {
        "id": "-6QNh8wyPJp9"
      },
      "execution_count": null,
      "outputs": []
    },
    {
      "cell_type": "code",
      "source": [
        "#Check for statistical data\n",
        "ren_energy.describe()"
      ],
      "metadata": {
        "id": "3r0QfjOzPN27"
      },
      "execution_count": null,
      "outputs": []
    },
    {
      "cell_type": "code",
      "source": [
        "#Categorizing the datatypes in the columns\n",
        "categorical_columns= []\n",
        "non_categorical_columns= []\n",
        "\n",
        "for column in ren_energy.columns:\n",
        "  if ren_energy[column].dtype == 'object':\n",
        "    categorical_columns.append(column)\n",
        "  else:\n",
        "    non_categorical_columns.append(column)\n",
        "\n",
        "print(\"Categorical columns:\")\n",
        "print(categorical_columns)\n",
        "print(\"\\nNon categorical columns\")\n",
        "print(non_categorical_columns)\n",
        "\n"
      ],
      "metadata": {
        "id": "YrCdJji4Pog3"
      },
      "execution_count": null,
      "outputs": []
    },
    {
      "cell_type": "markdown",
      "source": [
        "**Check for outliers**"
      ],
      "metadata": {
        "id": "6vHpENi4ZcFQ"
      }
    },
    {
      "cell_type": "code",
      "source": [
        "#Finding outliers in the data\n",
        "def clean_outliers(column):\n",
        "  mean = ren_energy[column].mean()\n",
        "  std = ren_energy[column].std()\n",
        "  threshold = 3\n",
        "  lower_limit = mean - threshold * std\n",
        "  upper_limit = mean + threshold * std\n",
        "  return ren_energy[(ren_energy[column] >= lower_limit) & (ren_energy[column] <= upper_limit)]\n",
        "\n",
        "new_ren_energy = clean_outliers(column)"
      ],
      "metadata": {
        "id": "7xMUPW-JQdqt"
      },
      "execution_count": null,
      "outputs": []
    },
    {
      "cell_type": "code",
      "source": [
        "#Check shape of the dataset\n",
        "ren_energy.shape"
      ],
      "metadata": {
        "id": "5fdxeiFCVveo"
      },
      "execution_count": null,
      "outputs": []
    },
    {
      "cell_type": "code",
      "source": [
        "#Check shape of new data\n",
        "new_ren_energy.shape"
      ],
      "metadata": {
        "id": "Sdh5VFmlZV-D"
      },
      "execution_count": null,
      "outputs": []
    },
    {
      "cell_type": "markdown",
      "source": [
        "-The data has no outliers"
      ],
      "metadata": {
        "id": "A4kCjmmQZhSI"
      }
    },
    {
      "cell_type": "markdown",
      "source": [
        "**DATA PREPROCESSING**"
      ],
      "metadata": {
        "id": "8d2vMDjTqz_v"
      }
    },
    {
      "cell_type": "code",
      "source": [
        "#Encoding column names for ml\n",
        "from sklearn.preprocessing import LabelEncoder\n",
        "le = LabelEncoder()\n",
        "encoded_columns= ['Country Code', 'Country Name', 'Income Group', 'Indicator Code', 'Indicator Name', 'Region', 'Year']\n",
        "for column in encoded_columns:\n",
        "  ren_energy[column] = le.fit_transform(ren_energy[column])\n"
      ],
      "metadata": {
        "id": "nf2ds29pZ3Gk"
      },
      "execution_count": null,
      "outputs": []
    },
    {
      "cell_type": "markdown",
      "source": [
        "**MACHINE LEARNING**"
      ],
      "metadata": {
        "id": "MbEsPXJUdJ31"
      }
    },
    {
      "cell_type": "markdown",
      "source": [
        "Using Linear regression to predict the model wwith energy consumption as my target variable"
      ],
      "metadata": {
        "id": "Gb_BptBWD-zL"
      }
    },
    {
      "cell_type": "markdown",
      "source": [
        "There was no model able to give a strong accuracy on the target variable energy consumption\n"
      ],
      "metadata": {
        "id": "lraZ-78VUhH9"
      }
    },
    {
      "cell_type": "markdown",
      "source": [
        "Using random trees for classification in prediction having the income group as the target variable"
      ],
      "metadata": {
        "id": "5z_nbXPFF73h"
      }
    },
    {
      "cell_type": "code",
      "source": [
        "from sklearn.model_selection import train_test_split\n",
        "from sklearn.metrics import accuracy_score\n",
        "from sklearn.ensemble import RandomForestClassifier"
      ],
      "metadata": {
        "id": "7lCJdx-cCde0"
      },
      "execution_count": null,
      "outputs": []
    },
    {
      "cell_type": "code",
      "source": [
        "#Give x and y variables\n",
        "x = ren_energy.drop(['Income Group'], axis=1)\n",
        "y = ren_energy['Income Group']\n",
        "#train and split\n",
        "x_train, x_test, y_train, y_test = train_test_split(x, y, test_size=0.2, random_state=42)\n",
        "#model variable\n",
        "model = RandomForestClassifier()\n",
        "#fit the model\n",
        "model.fit(x_train, y_train)\n",
        "#predict the model\n",
        "y_pred = model.predict(x_test)\n",
        "#Get accuracy\n",
        "accuracy = model.score(x_test, y_test)\n",
        "print(accuracy)"
      ],
      "metadata": {
        "id": "_kc16E_sGSR1"
      },
      "execution_count": null,
      "outputs": []
    }
  ]
}